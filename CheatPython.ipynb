{
 "cells": [
  {
   "cell_type": "code",
   "execution_count": null,
   "metadata": {},
   "outputs": [],
   "source": [
    "import pandas as pd"
   ]
  },
  {
   "attachments": {},
   "cell_type": "markdown",
   "metadata": {},
   "source": [
    "NOTEBOOK CONFIGURATION"
   ]
  },
  {
   "cell_type": "code",
   "execution_count": null,
   "metadata": {},
   "outputs": [],
   "source": [
    "# Display all the columns\n",
    "pd.set_option('display.max_columns', None)"
   ]
  },
  {
   "cell_type": "markdown",
   "metadata": {},
   "source": [
    "DATA IMPORT"
   ]
  },
  {
   "cell_type": "code",
   "execution_count": null,
   "metadata": {},
   "outputs": [],
   "source": [
    "pd.read_csv(\"file.csv\")\n",
    "pd.read_excel('file.xlsx', sheet_names = 'Shee1')\n",
    "pd.read_sql(query, connection)\n",
    "pd.read_json('file.json')\n",
    "pd.read_parquet('file.parquet')"
   ]
  },
  {
   "cell_type": "markdown",
   "metadata": {},
   "source": [
    "DATA SELECTION"
   ]
  },
  {
   "cell_type": "code",
   "execution_count": null,
   "metadata": {},
   "outputs": [],
   "source": [
    "df['column']\n",
    "df.loc['row', 'col']\n",
    "df.iloc[0:5, 0:2]\n",
    "df.query('col > 5')\n",
    "df[df['col'].isin(['A', 'B'])]"
   ]
  },
  {
   "cell_type": "markdown",
   "metadata": {},
   "source": [
    "DATA MANIPULATION"
   ]
  },
  {
   "cell_type": "code",
   "execution_count": null,
   "metadata": {},
   "outputs": [],
   "source": [
    "df.groupby('col').agg({'col2' : ['mean', 'sum']})\n",
    "df.merge(df2, on = 'key', how = 'left')\n",
    "df.pivot_table(values = 'val', index = 'idx')\n",
    "df.sorte_values(['col1', 'col2'])\n",
    "df.melt(id_vars = ['id'], values_vars = ['A', 'B'])\n",
    "df.apply(lambda x : x*2)"
   ]
  },
  {
   "cell_type": "markdown",
   "metadata": {},
   "source": [
    "STRING OPERATIONS"
   ]
  },
  {
   "cell_type": "code",
   "execution_count": null,
   "metadata": {},
   "outputs": [],
   "source": [
    "df['col'].str.contains('pattern')\n",
    "df['col'].str.extract('(\\d+)')\n",
    "df['col'].str.split('_').str(0)\n",
    "df['col'].str.lower()\n",
    "df['col'].str.repalce(r'\\s+', ' ')"
   ]
  },
  {
   "attachments": {},
   "cell_type": "markdown",
   "metadata": {},
   "source": [
    "DATA CLEANING\n"
   ]
  },
  {
   "cell_type": "code",
   "execution_count": null,
   "metadata": {},
   "outputs": [],
   "source": [
    "# Summary\n",
    "data_df.info()"
   ]
  },
  {
   "cell_type": "code",
   "execution_count": null,
   "metadata": {},
   "outputs": [],
   "source": [
    "# Check duplicates\n",
    "data_df.duplicated().sum()\n",
    "\n",
    "# Drop duplicates\n",
    "# You can drop based on a column as well\n",
    "data_df.drop_duplicates(inplace = True)\n",
    "data_df.drop_duplicates(['state'])"
   ]
  },
  {
   "cell_type": "code",
   "execution_count": null,
   "metadata": {},
   "outputs": [],
   "source": [
    "# Remove some special characters\n",
    "data_df[\"column_name\"].replace('[\\\\$,.]', \"\", regex = True)"
   ]
  },
  {
   "cell_type": "code",
   "execution_count": null,
   "metadata": {},
   "outputs": [],
   "source": [
    "df.fropna(subset = ['col'], how = 'any')\n",
    "df.fillna(methods = 'fill')\n",
    "df['col'].replace({'old' :'new'})\n",
    "df['col'].astype('category')\n",
    "df.interpolate(method = 'linear')"
   ]
  },
  {
   "cell_type": "markdown",
   "metadata": {},
   "source": [
    "NULL\n"
   ]
  },
  {
   "cell_type": "code",
   "execution_count": null,
   "metadata": {},
   "outputs": [],
   "source": [
    "df.isnull().sum()\n",
    "df.query(\"column_name.isnull()\")"
   ]
  },
  {
   "cell_type": "code",
   "execution_count": null,
   "metadata": {},
   "outputs": [],
   "source": [
    "# treating missing values:\n",
    "# for numeric data\n",
    "from sklearn.impute import SimpleImputer\n",
    "imp_mean = SimpleImputer(strategy = 'mean' or 'median')\n",
    "imp_mean.fit(X)\n",
    "\n",
    "# for categorical data\n",
    "SimpleImputer(strategy = 'most_frequent')"
   ]
  },
  {
   "attachments": {},
   "cell_type": "markdown",
   "metadata": {},
   "source": [
    "CREATE TRAIN/TEST SPLIT\n"
   ]
  },
  {
   "cell_type": "code",
   "execution_count": null,
   "metadata": {},
   "outputs": [],
   "source": [
    "from sklearn.model_selection import train_test_split\n",
    "\n",
    "# creating train/test split\n",
    "X_train, X_test, y_train, y_test = train_test_split(X,y, test_size= 0.2, random_state=42, stratify = X['claim_value_cat'])s"
   ]
  },
  {
   "cell_type": "markdown",
   "metadata": {},
   "source": [
    "DATA EXPORT"
   ]
  },
  {
   "cell_type": "code",
   "execution_count": null,
   "metadata": {},
   "outputs": [],
   "source": [
    "df.to_csv('output.csv', index = False)\n",
    "df.to_escel('output.xlsx', sheet_name = 'Sheet1')\n",
    "df.to_parquet('output.parquet')\n",
    "df.to_json('output.json', orient = 'records')"
   ]
  },
  {
   "cell_type": "markdown",
   "metadata": {},
   "source": [
    "STATISTICS"
   ]
  },
  {
   "cell_type": "code",
   "execution_count": null,
   "metadata": {},
   "outputs": [],
   "source": [
    "df.describe()\n",
    "df['col'].agg(['mean', 'median', 'sd'])\n",
    "df['col'].value_counts(normalize = True)\n",
    "df.corr(method = 'pearson')\n",
    "df.cov()\n",
    "df.quantile(0.25, 0.5, 0.75)"
   ]
  },
  {
   "cell_type": "markdown",
   "metadata": {},
   "source": [
    "TIME SERIES"
   ]
  },
  {
   "cell_type": "code",
   "execution_count": null,
   "metadata": {},
   "outputs": [],
   "source": [
    "df.resample('M').mean()\n",
    "df.rolling(window = 7).mean()\n",
    "df.shift(periods = 1)\n",
    "pd.date_range('2024', periods = 12, freq = 'M')\n",
    "df.asfreq('D', method = 'fill')\n",
    "df['date'].dt.strftiem('%Y-%m-%d')"
   ]
  }
 ],
 "metadata": {
  "language_info": {
   "name": "python"
  },
  "orig_nbformat": 4
 },
 "nbformat": 4,
 "nbformat_minor": 2
}
