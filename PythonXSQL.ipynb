{
 "cells": [
  {
   "cell_type": "markdown",
   "id": "ae3e3569",
   "metadata": {},
   "source": [
    "Detect Missing Values"
   ]
  },
  {
   "cell_type": "code",
   "execution_count": null,
   "id": "4542d2b7",
   "metadata": {},
   "outputs": [],
   "source": [
    "# Python\n",
    "df.isnull().sum()"
   ]
  },
  {
   "cell_type": "code",
   "execution_count": null,
   "id": "d7259de8",
   "metadata": {
    "vscode": {
     "languageId": "sql"
    }
   },
   "outputs": [],
   "source": [
    "--SQL\n",
    "SELECT COUNT(*) FROM table WHERE col IS NULL"
   ]
  },
  {
   "cell_type": "markdown",
   "id": "116dde15",
   "metadata": {},
   "source": [
    "Drop Missing Values"
   ]
  },
  {
   "cell_type": "code",
   "execution_count": null,
   "id": "ad999f92",
   "metadata": {},
   "outputs": [],
   "source": [
    "# Python\n",
    "df.dropna()"
   ]
  },
  {
   "cell_type": "code",
   "execution_count": null,
   "id": "83fd396a",
   "metadata": {
    "vscode": {
     "languageId": "sql"
    }
   },
   "outputs": [],
   "source": [
    "--SQL\n",
    "SELECT * FROM table WHERE col IS NOT NULL"
   ]
  },
  {
   "cell_type": "markdown",
   "id": "40b9f90d",
   "metadata": {},
   "source": [
    "Fill missing Values"
   ]
  },
  {
   "cell_type": "code",
   "execution_count": null,
   "id": "5ac578a2",
   "metadata": {},
   "outputs": [],
   "source": [
    "# Python\n",
    "df.fillna(value)"
   ]
  },
  {
   "cell_type": "code",
   "execution_count": null,
   "id": "929aebe1",
   "metadata": {
    "vscode": {
     "languageId": "sql"
    }
   },
   "outputs": [],
   "source": [
    "--SQL\n",
    "    SELECT COALESCE(col, value) AS col FROM table"
   ]
  },
  {
   "cell_type": "markdown",
   "id": "e755cc29",
   "metadata": {},
   "source": [
    "Remove Duplicates"
   ]
  },
  {
   "cell_type": "code",
   "execution_count": null,
   "id": "92936199",
   "metadata": {},
   "outputs": [],
   "source": [
    "# Python \n",
    "df.drop_duplicates()"
   ]
  },
  {
   "cell_type": "code",
   "execution_count": null,
   "id": "2b12e3fa",
   "metadata": {
    "vscode": {
     "languageId": "sql"
    }
   },
   "outputs": [],
   "source": [
    "--SQL\n",
    "SELECT DISTINCT * FROM table"
   ]
  },
  {
   "cell_type": "markdown",
   "id": "aa3ecc0e",
   "metadata": {},
   "source": [
    "Convert Data types"
   ]
  },
  {
   "cell_type": "code",
   "execution_count": null,
   "id": "31bde029",
   "metadata": {},
   "outputs": [],
   "source": [
    "# Python \n",
    "df['col'] = df['col'].astype(int)"
   ]
  },
  {
   "cell_type": "code",
   "execution_count": null,
   "id": "9ef86239",
   "metadata": {
    "vscode": {
     "languageId": "sql"
    }
   },
   "outputs": [],
   "source": [
    "--SQL\n",
    "CAST(col AS INT) or CONVERT(INT, col)(DB-specific)"
   ]
  },
  {
   "cell_type": "markdown",
   "id": "44e68420",
   "metadata": {},
   "source": [
    "Standardize Case"
   ]
  },
  {
   "cell_type": "code",
   "execution_count": null,
   "id": "6fd24f77",
   "metadata": {},
   "outputs": [],
   "source": [
    "# Python\n",
    "df['col'] = df['col'].str.lower()"
   ]
  },
  {
   "cell_type": "code",
   "execution_count": null,
   "id": "13671bb6",
   "metadata": {
    "vscode": {
     "languageId": "sql"
    }
   },
   "outputs": [],
   "source": [
    "--SQL\n",
    "LOWER(col) or UPPER(col)"
   ]
  },
  {
   "cell_type": "markdown",
   "id": "d7ac1547",
   "metadata": {},
   "source": [
    "Trim Whitespaces"
   ]
  },
  {
   "cell_type": "code",
   "execution_count": null,
   "id": "b8ede974",
   "metadata": {},
   "outputs": [],
   "source": [
    "# Python\n",
    "df['col'] = df['col'].str.strip"
   ]
  },
  {
   "cell_type": "code",
   "execution_count": null,
   "id": "564eeda4",
   "metadata": {
    "vscode": {
     "languageId": "sql"
    }
   },
   "outputs": [],
   "source": [
    "--SQL\n",
    "TRIM(col)"
   ]
  },
  {
   "cell_type": "markdown",
   "id": "7c663ed1",
   "metadata": {},
   "source": [
    "Replace Specific Values"
   ]
  },
  {
   "cell_type": "code",
   "execution_count": null,
   "id": "71003bf4",
   "metadata": {},
   "outputs": [],
   "source": [
    "# Pyhton \n",
    "df['col'].replace('old', 'new')"
   ]
  },
  {
   "cell_type": "code",
   "execution_count": null,
   "id": "aa3fed74",
   "metadata": {
    "vscode": {
     "languageId": "sql"
    }
   },
   "outputs": [],
   "source": [
    "--SQL\n",
    "REPLACE(col, 'old', 'new')\n",
    "-- or use\n",
    "CASE WHEN -- for complex logic"
   ]
  },
  {
   "cell_type": "markdown",
   "id": "db21ef80",
   "metadata": {},
   "source": [
    "Filter Outliers"
   ]
  },
  {
   "cell_type": "code",
   "execution_count": null,
   "id": "4b6cd931",
   "metadata": {},
   "outputs": [],
   "source": [
    "df[df['col'] < threshold]"
   ]
  },
  {
   "cell_type": "code",
   "execution_count": null,
   "id": "0a858820",
   "metadata": {
    "vscode": {
     "languageId": "sql"
    }
   },
   "outputs": [],
   "source": [
    "-- SQL \n",
    "SELECT * FROM table WHERE col < threshold"
   ]
  },
  {
   "cell_type": "markdown",
   "id": "cc6f349c",
   "metadata": {},
   "source": [
    "Drop Unwanted Columns"
   ]
  },
  {
   "cell_type": "code",
   "execution_count": null,
   "id": "a8a842bc",
   "metadata": {},
   "outputs": [],
   "source": [
    "# Python  \n",
    "df.drop(['col', 'col2'], axis = 1)"
   ]
  },
  {
   "cell_type": "code",
   "execution_count": null,
   "id": "73bdadf8",
   "metadata": {
    "vscode": {
     "languageId": "sql"
    }
   },
   "outputs": [],
   "source": [
    "--SQL only select necessary columns\n",
    "SELECT col3, col4 FROM table"
   ]
  },
  {
   "cell_type": "markdown",
   "id": "ce365747",
   "metadata": {},
   "source": [
    "Rename Columns"
   ]
  },
  {
   "cell_type": "code",
   "execution_count": null,
   "id": "51e244e9",
   "metadata": {},
   "outputs": [],
   "source": [
    "# Pyhton \n",
    "df.rename(columns = {'old' : 'new'})"
   ]
  },
  {
   "cell_type": "code",
   "execution_count": null,
   "id": "7013d735",
   "metadata": {
    "vscode": {
     "languageId": "sql"
    }
   },
   "outputs": [],
   "source": [
    "--SQl\n",
    "ALTER TABLE table RENAME COLUMNS old TO new"
   ]
  },
  {
   "cell_type": "markdown",
   "id": "de633eab",
   "metadata": {},
   "source": [
    "Add New Derived Column"
   ]
  },
  {
   "cell_type": "code",
   "execution_count": null,
   "id": "4964521b",
   "metadata": {},
   "outputs": [],
   "source": [
    "# Python \n",
    "df['new_col'] = df['col'] + df['col2']"
   ]
  },
  {
   "cell_type": "code",
   "execution_count": null,
   "id": "94a6c067",
   "metadata": {
    "vscode": {
     "languageId": "sql"
    }
   },
   "outputs": [],
   "source": [
    "--SQL\n",
    "SELECT col + col2 AS new_col From table"
   ]
  },
  {
   "cell_type": "markdown",
   "id": "0dbd59a7",
   "metadata": {},
   "source": [
    "Validate Data Ranges"
   ]
  },
  {
   "cell_type": "code",
   "execution_count": null,
   "id": "5b2bfe59",
   "metadata": {},
   "outputs": [],
   "source": [
    "# Python \n",
    "df[(df['col'] >= min) & (df['col'] <= max)]"
   ]
  },
  {
   "cell_type": "code",
   "execution_count": null,
   "id": "6f595d7b",
   "metadata": {
    "vscode": {
     "languageId": "sql"
    }
   },
   "outputs": [],
   "source": [
    "--SQL\n",
    "SELECT * FROM table WHERE col BETWEEN min AND max"
   ]
  },
  {
   "cell_type": "markdown",
   "id": "a00c5446",
   "metadata": {},
   "source": [
    "Encode Categories"
   ]
  },
  {
   "cell_type": "code",
   "execution_count": null,
   "id": "194a376c",
   "metadata": {},
   "outputs": [],
   "source": [
    "#Python\n",
    "pd.get_summies(df['col'])\n",
    ".map()"
   ]
  },
  {
   "cell_type": "code",
   "execution_count": null,
   "id": "8d179875",
   "metadata": {
    "vscode": {
     "languageId": "sql"
    }
   },
   "outputs": [],
   "source": [
    "--SQL\n",
    "CASE WHEN\n",
    "JOIN"
   ]
  },
  {
   "cell_type": "markdown",
   "id": "ba394ca4",
   "metadata": {},
   "source": [
    "Correct Typos or Inconsistencies"
   ]
  },
  {
   "cell_type": "code",
   "execution_count": null,
   "id": "0499a4bf",
   "metadata": {},
   "outputs": [],
   "source": [
    "# PYthon\n",
    "df['col'].replace({'yes' :'Yes', 'YES' : 'Yes'})"
   ]
  },
  {
   "cell_type": "code",
   "execution_count": null,
   "id": "831b693a",
   "metadata": {
    "vscode": {
     "languageId": "sql"
    }
   },
   "outputs": [],
   "source": [
    "--SQL\n",
    "UPDATE table SET col = 'Yes' WHERE col IN ('yes', 'YES')"
   ]
  }
 ],
 "metadata": {
  "language_info": {
   "name": "python"
  }
 },
 "nbformat": 4,
 "nbformat_minor": 5
}
