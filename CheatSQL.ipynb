{
 "cells": [
  {
   "attachments": {},
   "cell_type": "markdown",
   "metadata": {},
   "source": [
    "CTE (Common Table Expressions)"
   ]
  },
  {
   "cell_type": "code",
   "execution_count": null,
   "metadata": {
    "vscode": {
     "languageId": "sql"
    }
   },
   "outputs": [],
   "source": [
    "WITH vendas_recentes AS (\n",
    "    SELECT cliente_id, valor\n",
    "    FROM vendas\n",
    "    WHERE data >= '2024-01-01'\n",
    ")\n",
    "SELECT cliente_id, SUM(valor) as total\n",
    "FROM vendas_recentes\n",
    "GROUP BY cliente_id;\n"
   ]
  },
  {
   "attachments": {},
   "cell_type": "markdown",
   "metadata": {},
   "source": [
    "NULL"
   ]
  },
  {
   "cell_type": "code",
   "execution_count": null,
   "metadata": {
    "vscode": {
     "languageId": "sql"
    }
   },
   "outputs": [],
   "source": [
    "--- Selecting when is not null\n",
    "SELECT * FROM table WHERE id ID NOT NULL"
   ]
  },
  {
   "cell_type": "code",
   "execution_count": null,
   "metadata": {
    "vscode": {
     "languageId": "sql"
    }
   },
   "outputs": [],
   "source": [
    "--- Replacing missing values\n",
    "SELECT COALESCE(price,0) AS clean_price FROM sales"
   ]
  },
  {
   "cell_type": "code",
   "execution_count": null,
   "metadata": {
    "vscode": {
     "languageId": "sql"
    }
   },
   "outputs": [],
   "source": [
    "--- Replacing using CASE WHEN\n",
    "SELECT\n",
    "    CASE\n",
    "        WHEN region IS NULL THEN 'Unknown'\n",
    "        ELSE region\n",
    "    END AS region_cleaned\n",
    "FROM users"
   ]
  },
  {
   "attachments": {},
   "cell_type": "markdown",
   "metadata": {},
   "source": [
    "Window Function"
   ]
  },
  {
   "cell_type": "code",
   "execution_count": null,
   "metadata": {
    "vscode": {
     "languageId": "sql"
    }
   },
   "outputs": [],
   "source": [
    "--- Row_number gives a unique row number per group\n",
    "--- Use case: Get the top 1 salary per department\n",
    "SELECT \n",
    "    employee_id,\n",
    "    department,\n",
    "    salary,\n",
    "    ROW_NUMBER() OVER (PARTITION BY department ORDER BY salary DESC) AS rank_in_dept\n",
    "FROM employees"
   ]
  },
  {
   "cell_type": "code",
   "execution_count": null,
   "metadata": {
    "vscode": {
     "languageId": "sql"
    }
   },
   "outputs": [],
   "source": [
    "--- RANK / DENSE_RANK - rank with out without gaps\n",
    "SELECT\n",
    "    product_id,\n",
    "    category,\n",
    "    sales,\n",
    "    RANK() OVER (PARTITION BY category ORDER BY sales DESC) AS sales_rank\n",
    "FROM products"
   ]
  },
  {
   "cell_type": "code",
   "execution_count": null,
   "metadata": {
    "vscode": {
     "languageId": "sql"
    }
   },
   "outputs": [],
   "source": [
    "--- LAG/LEAD - compare values in adjacent rows\n",
    "--- Use case: Track how a customer's spending changes over time.\n",
    "SELECT\n",
    "    customer_id,\n",
    "    purschse_date,\n",
    "    amount,\n",
    "    LAG(amount) OVER (PARTITION BY customer_id ORDER BY purchse_date) AS prev_purchase,\n",
    "    LEAD(amount) OVER (PARTITION BY customer_id ORDER BY purchase_date) AS next_purchase\n",
    "FROM purchases"
   ]
  },
  {
   "cell_type": "code",
   "execution_count": null,
   "metadata": {
    "vscode": {
     "languageId": "sql"
    }
   },
   "outputs": [],
   "source": [
    "--- SUm/AVG/MAX \n",
    "--- Use case: Rolling totals or moving averages\n",
    "SELECT \n",
    "     order_id,\n",
    "     customer_id,\n",
    "     order_value,\n",
    "     SUM(order_value) OVER (PARTITION BY customer_id ORDER BY order_date ROWS BETWEEN 3 PRECEDING AND CURRENT ROW ) AS rolling_3_sum\n",
    "FROM orders"
   ]
  },
  {
   "cell_type": "code",
   "execution_count": null,
   "metadata": {
    "vscode": {
     "languageId": "sql"
    }
   },
   "outputs": [],
   "source": [
    "--- NTILE - break rows into buckets\n",
    "--- Use case: Quartile or deciles of scores\n",
    "\n",
    "SELECT \n",
    "    student_id,\n",
    "    test_score,\n",
    "    NTILE(4) OVER (ORDER BY test_score DESC) AS quartile\n",
    "FROM students"
   ]
  },
  {
   "cell_type": "markdown",
   "metadata": {},
   "source": [
    "Select date\n"
   ]
  },
  {
   "cell_type": "code",
   "execution_count": null,
   "metadata": {
    "vscode": {
     "languageId": "sql"
    }
   },
   "outputs": [],
   "source": [
    "SELECT user_id COUNT(app_id) AS total_downloads\n",
    "from isntalls\n",
    "WHERE intall_date BETWEEN date_sub(CURRENT_DATE, INTERVAL 7 DAYS) AND CURRENT_DATE\n",
    "GROUP BY user_id"
   ]
  },
  {
   "cell_type": "code",
   "execution_count": null,
   "metadata": {
    "vscode": {
     "languageId": "sql"
    }
   },
   "outputs": [],
   "source": [
    "WITH users_purchases AS (\n",
    "  SELECT u.user_id, u.signup_date, p.purchase_amount\n",
    "  FROM users u\n",
    "  LEFT JOIN purchases p ON u.user_id = p.user_id\n",
    ")\n",
    "SELECT user_id, SUM(purchase_amount) AS total_purchase\n",
    "FROM users_purchases\n",
    "WHERE signup_date >= CURRENT_DATE - INTERVAL 30 DAY\n",
    "GROUP BY user_id;\n"
   ]
  },
  {
   "cell_type": "markdown",
   "metadata": {},
   "source": [
    "Duplicates"
   ]
  },
  {
   "cell_type": "code",
   "execution_count": null,
   "metadata": {
    "vscode": {
     "languageId": "sql"
    }
   },
   "outputs": [],
   "source": [
    "SELECT user_id, COUNT(*) as num_duplicates\n",
    "FROM users\n",
    "GROUP BY user_id \n",
    "HAVING COUNT(*) > 1"
   ]
  }
 ],
 "metadata": {
  "language_info": {
   "name": "python"
  },
  "orig_nbformat": 4
 },
 "nbformat": 4,
 "nbformat_minor": 2
}
